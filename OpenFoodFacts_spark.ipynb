{
  "nbformat": 4,
  "nbformat_minor": 0,
  "metadata": {
    "colab": {
      "provenance": [],
      "authorship_tag": "ABX9TyN/XfcbfW1u6qFoWIR70/o9",
      "include_colab_link": true
    },
    "kernelspec": {
      "name": "python3",
      "display_name": "Python 3"
    },
    "language_info": {
      "name": "python"
    }
  },
  "cells": [
    {
      "cell_type": "markdown",
      "metadata": {
        "id": "view-in-github",
        "colab_type": "text"
      },
      "source": [
        "<a href=\"https://colab.research.google.com/github/youssef-ASSOIL/OpenFoodFacts_spark/blob/main/OpenFoodFacts_spark.ipynb\" target=\"_parent\"><img src=\"https://colab.research.google.com/assets/colab-badge.svg\" alt=\"Open In Colab\"/></a>"
      ]
    },
    {
      "cell_type": "code",
      "execution_count": 8,
      "metadata": {
        "id": "cD1e5sVXGadq",
        "colab": {
          "base_uri": "https://localhost:8080/"
        },
        "outputId": "d57c7ec3-3ea3-4908-b27a-a22c55614e42"
      },
      "outputs": [
        {
          "output_type": "stream",
          "name": "stdout",
          "text": [
            "Requirement already satisfied: pyspark in /usr/local/lib/python3.11/dist-packages (3.5.1)\n",
            "Requirement already satisfied: py4j==0.10.9.7 in /usr/local/lib/python3.11/dist-packages (from pyspark) (0.10.9.7)\n"
          ]
        }
      ],
      "source": [
        "!pip install pyspark"
      ]
    },
    {
      "cell_type": "code",
      "source": [
        "from pyspark.sql import SparkSession\n",
        "from pyspark.sql.functions import col, count, when, isnan, desc"
      ],
      "metadata": {
        "id": "Z96DJm53G_oO"
      },
      "execution_count": 5,
      "outputs": []
    },
    {
      "cell_type": "code",
      "source": [
        "!wget https://static.openfoodfacts.org/data/en.openfoodfacts.org.products.csv -O products.csv"
      ],
      "metadata": {
        "colab": {
          "base_uri": "https://localhost:8080/"
        },
        "id": "ZkJP6-6NHC-u",
        "outputId": "36e70f73-8353-4811-9804-b72d0b901b67"
      },
      "execution_count": 7,
      "outputs": [
        {
          "output_type": "stream",
          "name": "stdout",
          "text": [
            "--2025-06-14 19:48:28--  https://static.openfoodfacts.org/data/en.openfoodfacts.org.products.csv\n",
            "Resolving static.openfoodfacts.org (static.openfoodfacts.org)... 213.36.253.214\n",
            "Connecting to static.openfoodfacts.org (static.openfoodfacts.org)|213.36.253.214|:443... connected.\n",
            "HTTP request sent, awaiting response... 302 Moved Temporarily\n",
            "Location: https://openfoodfacts-ds.s3.eu-west-3.amazonaws.com/en.openfoodfacts.org.products.csv [following]\n",
            "--2025-06-14 19:48:28--  https://openfoodfacts-ds.s3.eu-west-3.amazonaws.com/en.openfoodfacts.org.products.csv\n",
            "Resolving openfoodfacts-ds.s3.eu-west-3.amazonaws.com (openfoodfacts-ds.s3.eu-west-3.amazonaws.com)... 3.5.205.248, 3.5.226.145\n",
            "Connecting to openfoodfacts-ds.s3.eu-west-3.amazonaws.com (openfoodfacts-ds.s3.eu-west-3.amazonaws.com)|3.5.205.248|:443... connected.\n",
            "HTTP request sent, awaiting response... 200 OK\n",
            "Length: 11220064070 (10G) [text/csv]\n",
            "Saving to: ‘products.csv’\n",
            "\n",
            "products.csv        100%[===================>]  10.45G  82.7MB/s    in 2m 36s  \n",
            "\n",
            "2025-06-14 19:51:05 (68.5 MB/s) - ‘products.csv’ saved [11220064070/11220064070]\n",
            "\n"
          ]
        }
      ]
    },
    {
      "cell_type": "code",
      "source": [
        "from pyspark.sql import SparkSession\n",
        "\n",
        "# Création de la session Spark\n",
        "spark = SparkSession.builder \\\n",
        "    .appName(\"Data Profiling OpenFoodFacts\") \\\n",
        "    .getOrCreate()\n"
      ],
      "metadata": {
        "id": "H-kqXXcmHEW-"
      },
      "execution_count": 3,
      "outputs": []
    },
    {
      "cell_type": "code",
      "source": [
        "# À exécuter après avoir récupéré les produits via l’API\n",
        "import pandas as pd\n",
        "import numpy as np\n",
        "\n",
        "# Normaliser le JSON\n",
        "df_pd = pd.json_normalize(products)\n",
        "\n",
        "# Garder uniquement les colonnes scalaires\n",
        "def is_scalar(val):\n",
        "    return isinstance(val, (str, int, float, bool, type(None)))\n",
        "\n",
        "scalar_cols = [col for col in df_pd.columns if df_pd[col].map(is_scalar).all()]\n",
        "df_pd_clean = df_pd[scalar_cols].copy()\n",
        "\n",
        "# Forcer tous les types numériques à float64\n",
        "for col in df_pd_clean.columns:\n",
        "    if pd.api.types.is_numeric_dtype(df_pd_clean[col]):\n",
        "        try:\n",
        "            df_pd_clean[col] = df_pd_clean[col].astype(np.float64)\n",
        "        except:\n",
        "            df_pd_clean.drop(columns=[col], inplace=True)\n",
        "\n",
        "# Créer le DataFrame Spark\n",
        "df = spark.createDataFrame(df_pd_clean)\n"
      ],
      "metadata": {
        "colab": {
          "base_uri": "https://localhost:8080/",
          "height": 207
        },
        "id": "TaN9jQJZJ5EJ",
        "outputId": "2e882ac2-82d5-4e48-a27c-e7fc42eb5462"
      },
      "execution_count": 7,
      "outputs": [
        {
          "output_type": "error",
          "ename": "NameError",
          "evalue": "name 'products' is not defined",
          "traceback": [
            "\u001b[0;31m---------------------------------------------------------------------------\u001b[0m",
            "\u001b[0;31mNameError\u001b[0m                                 Traceback (most recent call last)",
            "\u001b[0;32m<ipython-input-7-1261558044>\u001b[0m in \u001b[0;36m<cell line: 0>\u001b[0;34m()\u001b[0m\n\u001b[1;32m      4\u001b[0m \u001b[0;34m\u001b[0m\u001b[0m\n\u001b[1;32m      5\u001b[0m \u001b[0;31m# Normaliser le JSON\u001b[0m\u001b[0;34m\u001b[0m\u001b[0;34m\u001b[0m\u001b[0m\n\u001b[0;32m----> 6\u001b[0;31m \u001b[0mdf_pd\u001b[0m \u001b[0;34m=\u001b[0m \u001b[0mpd\u001b[0m\u001b[0;34m.\u001b[0m\u001b[0mjson_normalize\u001b[0m\u001b[0;34m(\u001b[0m\u001b[0mproducts\u001b[0m\u001b[0;34m)\u001b[0m\u001b[0;34m\u001b[0m\u001b[0;34m\u001b[0m\u001b[0m\n\u001b[0m\u001b[1;32m      7\u001b[0m \u001b[0;34m\u001b[0m\u001b[0m\n\u001b[1;32m      8\u001b[0m \u001b[0;31m# Garder uniquement les colonnes scalaires\u001b[0m\u001b[0;34m\u001b[0m\u001b[0;34m\u001b[0m\u001b[0m\n",
            "\u001b[0;31mNameError\u001b[0m: name 'products' is not defined"
          ]
        }
      ]
    },
    {
      "cell_type": "code",
      "source": [
        "df.write.mode(\"overwrite\").json(\"products_json\")\n",
        "df.write.mode(\"overwrite\").parquet(\"products_parquet\")"
      ],
      "metadata": {
        "colab": {
          "base_uri": "https://localhost:8080/",
          "height": 156
        },
        "id": "QcVQRuInHHIP",
        "outputId": "03b57ae3-4201-4afe-824d-67837417b59f"
      },
      "execution_count": 1,
      "outputs": [
        {
          "output_type": "error",
          "ename": "NameError",
          "evalue": "name 'df' is not defined",
          "traceback": [
            "\u001b[0;31m---------------------------------------------------------------------------\u001b[0m",
            "\u001b[0;31mNameError\u001b[0m                                 Traceback (most recent call last)",
            "\u001b[0;32m<ipython-input-1-966116150>\u001b[0m in \u001b[0;36m<cell line: 0>\u001b[0;34m()\u001b[0m\n\u001b[0;32m----> 1\u001b[0;31m \u001b[0mdf\u001b[0m\u001b[0;34m.\u001b[0m\u001b[0mwrite\u001b[0m\u001b[0;34m.\u001b[0m\u001b[0mmode\u001b[0m\u001b[0;34m(\u001b[0m\u001b[0;34m\"overwrite\"\u001b[0m\u001b[0;34m)\u001b[0m\u001b[0;34m.\u001b[0m\u001b[0mjson\u001b[0m\u001b[0;34m(\u001b[0m\u001b[0;34m\"products_json\"\u001b[0m\u001b[0;34m)\u001b[0m\u001b[0;34m\u001b[0m\u001b[0;34m\u001b[0m\u001b[0m\n\u001b[0m\u001b[1;32m      2\u001b[0m \u001b[0mdf\u001b[0m\u001b[0;34m.\u001b[0m\u001b[0mwrite\u001b[0m\u001b[0;34m.\u001b[0m\u001b[0mmode\u001b[0m\u001b[0;34m(\u001b[0m\u001b[0;34m\"overwrite\"\u001b[0m\u001b[0;34m)\u001b[0m\u001b[0;34m.\u001b[0m\u001b[0mparquet\u001b[0m\u001b[0;34m(\u001b[0m\u001b[0;34m\"products_parquet\"\u001b[0m\u001b[0;34m)\u001b[0m\u001b[0;34m\u001b[0m\u001b[0;34m\u001b[0m\u001b[0m\n",
            "\u001b[0;31mNameError\u001b[0m: name 'df' is not defined"
          ]
        }
      ]
    },
    {
      "cell_type": "code",
      "source": [
        "import time\n",
        "\n",
        "start = time.time()\n",
        "df_json = spark.read.json(\"products_json\")\n",
        "print(\"JSON load time:\", time.time() - start)\n",
        "\n",
        "start = time.time()\n",
        "df_parquet = spark.read.parquet(\"products_parquet\")\n",
        "print(\"Parquet load time:\", time.time() - start)"
      ],
      "metadata": {
        "colab": {
          "base_uri": "https://localhost:8080/"
        },
        "id": "iMDtxKj6HKns",
        "outputId": "407dd03b-1848-45b5-fd9d-7858f9e6bfe7"
      },
      "execution_count": 12,
      "outputs": [
        {
          "output_type": "stream",
          "name": "stdout",
          "text": [
            "JSON load time: 113.68371391296387\n",
            "Parquet load time: 0.40471339225769043\n"
          ]
        }
      ]
    },
    {
      "cell_type": "code",
      "source": [
        "df.printSchema()"
      ],
      "metadata": {
        "colab": {
          "base_uri": "https://localhost:8080/"
        },
        "id": "QkHSqQYyHLt3",
        "outputId": "25635345-e822-4ab6-f6bd-35db88e63a66"
      },
      "execution_count": 13,
      "outputs": [
        {
          "output_type": "stream",
          "name": "stdout",
          "text": [
            "root\n",
            " |-- code: double (nullable = true)\n",
            " |-- url: string (nullable = true)\n",
            " |-- creator: string (nullable = true)\n",
            " |-- created_t: integer (nullable = true)\n",
            " |-- created_datetime: timestamp (nullable = true)\n",
            " |-- last_modified_t: integer (nullable = true)\n",
            " |-- last_modified_datetime: timestamp (nullable = true)\n",
            " |-- last_modified_by: string (nullable = true)\n",
            " |-- last_updated_t: integer (nullable = true)\n",
            " |-- last_updated_datetime: timestamp (nullable = true)\n",
            " |-- product_name: string (nullable = true)\n",
            " |-- abbreviated_product_name: string (nullable = true)\n",
            " |-- generic_name: string (nullable = true)\n",
            " |-- quantity: string (nullable = true)\n",
            " |-- packaging: string (nullable = true)\n",
            " |-- packaging_tags: string (nullable = true)\n",
            " |-- packaging_en: string (nullable = true)\n",
            " |-- packaging_text: string (nullable = true)\n",
            " |-- brands: string (nullable = true)\n",
            " |-- brands_tags: string (nullable = true)\n",
            " |-- brands_en: string (nullable = true)\n",
            " |-- categories: string (nullable = true)\n",
            " |-- categories_tags: string (nullable = true)\n",
            " |-- categories_en: string (nullable = true)\n",
            " |-- origins: string (nullable = true)\n",
            " |-- origins_tags: string (nullable = true)\n",
            " |-- origins_en: string (nullable = true)\n",
            " |-- manufacturing_places: string (nullable = true)\n",
            " |-- manufacturing_places_tags: string (nullable = true)\n",
            " |-- labels: string (nullable = true)\n",
            " |-- labels_tags: string (nullable = true)\n",
            " |-- labels_en: string (nullable = true)\n",
            " |-- emb_codes: string (nullable = true)\n",
            " |-- emb_codes_tags: string (nullable = true)\n",
            " |-- first_packaging_code_geo: string (nullable = true)\n",
            " |-- cities: string (nullable = true)\n",
            " |-- cities_tags: string (nullable = true)\n",
            " |-- purchase_places: string (nullable = true)\n",
            " |-- stores: string (nullable = true)\n",
            " |-- countries: string (nullable = true)\n",
            " |-- countries_tags: string (nullable = true)\n",
            " |-- countries_en: string (nullable = true)\n",
            " |-- ingredients_text: string (nullable = true)\n",
            " |-- ingredients_tags: string (nullable = true)\n",
            " |-- ingredients_analysis_tags: string (nullable = true)\n",
            " |-- allergens: string (nullable = true)\n",
            " |-- allergens_en: string (nullable = true)\n",
            " |-- traces: string (nullable = true)\n",
            " |-- traces_tags: string (nullable = true)\n",
            " |-- traces_en: string (nullable = true)\n",
            " |-- serving_size: string (nullable = true)\n",
            " |-- serving_quantity: double (nullable = true)\n",
            " |-- no_nutrition_data: string (nullable = true)\n",
            " |-- additives_n: integer (nullable = true)\n",
            " |-- additives: string (nullable = true)\n",
            " |-- additives_tags: string (nullable = true)\n",
            " |-- additives_en: string (nullable = true)\n",
            " |-- nutriscore_score: integer (nullable = true)\n",
            " |-- nutriscore_grade: string (nullable = true)\n",
            " |-- nova_group: integer (nullable = true)\n",
            " |-- pnns_groups_1: string (nullable = true)\n",
            " |-- pnns_groups_2: string (nullable = true)\n",
            " |-- food_groups: string (nullable = true)\n",
            " |-- food_groups_tags: string (nullable = true)\n",
            " |-- food_groups_en: string (nullable = true)\n",
            " |-- states: string (nullable = true)\n",
            " |-- states_tags: string (nullable = true)\n",
            " |-- states_en: string (nullable = true)\n",
            " |-- brand_owner: string (nullable = true)\n",
            " |-- environmental_score_score: integer (nullable = true)\n",
            " |-- environmental_score_grade: string (nullable = true)\n",
            " |-- nutrient_levels_tags: string (nullable = true)\n",
            " |-- product_quantity: double (nullable = true)\n",
            " |-- owner: string (nullable = true)\n",
            " |-- data_quality_errors_tags: string (nullable = true)\n",
            " |-- unique_scans_n: integer (nullable = true)\n",
            " |-- popularity_tags: string (nullable = true)\n",
            " |-- completeness: double (nullable = true)\n",
            " |-- last_image_t: integer (nullable = true)\n",
            " |-- last_image_datetime: timestamp (nullable = true)\n",
            " |-- main_category: string (nullable = true)\n",
            " |-- main_category_en: string (nullable = true)\n",
            " |-- image_url: string (nullable = true)\n",
            " |-- image_small_url: string (nullable = true)\n",
            " |-- image_ingredients_url: string (nullable = true)\n",
            " |-- image_ingredients_small_url: string (nullable = true)\n",
            " |-- image_nutrition_url: string (nullable = true)\n",
            " |-- image_nutrition_small_url: string (nullable = true)\n",
            " |-- energy-kj_100g: double (nullable = true)\n",
            " |-- energy-kcal_100g: double (nullable = true)\n",
            " |-- energy_100g: double (nullable = true)\n",
            " |-- energy-from-fat_100g: double (nullable = true)\n",
            " |-- fat_100g: double (nullable = true)\n",
            " |-- saturated-fat_100g: double (nullable = true)\n",
            " |-- butyric-acid_100g: double (nullable = true)\n",
            " |-- caproic-acid_100g: double (nullable = true)\n",
            " |-- caprylic-acid_100g: double (nullable = true)\n",
            " |-- capric-acid_100g: double (nullable = true)\n",
            " |-- lauric-acid_100g: double (nullable = true)\n",
            " |-- myristic-acid_100g: double (nullable = true)\n",
            " |-- palmitic-acid_100g: double (nullable = true)\n",
            " |-- stearic-acid_100g: double (nullable = true)\n",
            " |-- arachidic-acid_100g: double (nullable = true)\n",
            " |-- behenic-acid_100g: double (nullable = true)\n",
            " |-- lignoceric-acid_100g: double (nullable = true)\n",
            " |-- cerotic-acid_100g: double (nullable = true)\n",
            " |-- montanic-acid_100g: double (nullable = true)\n",
            " |-- melissic-acid_100g: double (nullable = true)\n",
            " |-- unsaturated-fat_100g: double (nullable = true)\n",
            " |-- monounsaturated-fat_100g: double (nullable = true)\n",
            " |-- omega-9-fat_100g: double (nullable = true)\n",
            " |-- polyunsaturated-fat_100g: double (nullable = true)\n",
            " |-- omega-3-fat_100g: double (nullable = true)\n",
            " |-- omega-6-fat_100g: double (nullable = true)\n",
            " |-- alpha-linolenic-acid_100g: double (nullable = true)\n",
            " |-- eicosapentaenoic-acid_100g: double (nullable = true)\n",
            " |-- docosahexaenoic-acid_100g: double (nullable = true)\n",
            " |-- linoleic-acid_100g: double (nullable = true)\n",
            " |-- arachidonic-acid_100g: double (nullable = true)\n",
            " |-- gamma-linolenic-acid_100g: double (nullable = true)\n",
            " |-- dihomo-gamma-linolenic-acid_100g: double (nullable = true)\n",
            " |-- oleic-acid_100g: double (nullable = true)\n",
            " |-- elaidic-acid_100g: double (nullable = true)\n",
            " |-- gondoic-acid_100g: double (nullable = true)\n",
            " |-- mead-acid_100g: double (nullable = true)\n",
            " |-- erucic-acid_100g: double (nullable = true)\n",
            " |-- nervonic-acid_100g: double (nullable = true)\n",
            " |-- trans-fat_100g: double (nullable = true)\n",
            " |-- cholesterol_100g: double (nullable = true)\n",
            " |-- carbohydrates_100g: double (nullable = true)\n",
            " |-- sugars_100g: double (nullable = true)\n",
            " |-- added-sugars_100g: double (nullable = true)\n",
            " |-- sucrose_100g: double (nullable = true)\n",
            " |-- glucose_100g: double (nullable = true)\n",
            " |-- fructose_100g: double (nullable = true)\n",
            " |-- galactose_100g: double (nullable = true)\n",
            " |-- lactose_100g: double (nullable = true)\n",
            " |-- maltose_100g: double (nullable = true)\n",
            " |-- maltodextrins_100g: double (nullable = true)\n",
            " |-- starch_100g: double (nullable = true)\n",
            " |-- polyols_100g: double (nullable = true)\n",
            " |-- erythritol_100g: double (nullable = true)\n",
            " |-- fiber_100g: double (nullable = true)\n",
            " |-- soluble-fiber_100g: double (nullable = true)\n",
            " |-- insoluble-fiber_100g: double (nullable = true)\n",
            " |-- proteins_100g: double (nullable = true)\n",
            " |-- casein_100g: double (nullable = true)\n",
            " |-- serum-proteins_100g: double (nullable = true)\n",
            " |-- nucleotides_100g: double (nullable = true)\n",
            " |-- salt_100g: double (nullable = true)\n",
            " |-- added-salt_100g: double (nullable = true)\n",
            " |-- sodium_100g: double (nullable = true)\n",
            " |-- alcohol_100g: double (nullable = true)\n",
            " |-- vitamin-a_100g: double (nullable = true)\n",
            " |-- beta-carotene_100g: double (nullable = true)\n",
            " |-- vitamin-d_100g: double (nullable = true)\n",
            " |-- vitamin-e_100g: double (nullable = true)\n",
            " |-- vitamin-k_100g: double (nullable = true)\n",
            " |-- vitamin-c_100g: double (nullable = true)\n",
            " |-- vitamin-b1_100g: double (nullable = true)\n",
            " |-- vitamin-b2_100g: double (nullable = true)\n",
            " |-- vitamin-pp_100g: double (nullable = true)\n",
            " |-- vitamin-b6_100g: double (nullable = true)\n",
            " |-- vitamin-b9_100g: double (nullable = true)\n",
            " |-- folates_100g: double (nullable = true)\n",
            " |-- vitamin-b12_100g: double (nullable = true)\n",
            " |-- biotin_100g: double (nullable = true)\n",
            " |-- pantothenic-acid_100g: double (nullable = true)\n",
            " |-- silica_100g: double (nullable = true)\n",
            " |-- bicarbonate_100g: double (nullable = true)\n",
            " |-- potassium_100g: double (nullable = true)\n",
            " |-- chloride_100g: double (nullable = true)\n",
            " |-- calcium_100g: double (nullable = true)\n",
            " |-- phosphorus_100g: double (nullable = true)\n",
            " |-- iron_100g: double (nullable = true)\n",
            " |-- magnesium_100g: double (nullable = true)\n",
            " |-- zinc_100g: double (nullable = true)\n",
            " |-- copper_100g: double (nullable = true)\n",
            " |-- manganese_100g: double (nullable = true)\n",
            " |-- fluoride_100g: double (nullable = true)\n",
            " |-- selenium_100g: double (nullable = true)\n",
            " |-- chromium_100g: double (nullable = true)\n",
            " |-- molybdenum_100g: double (nullable = true)\n",
            " |-- iodine_100g: double (nullable = true)\n",
            " |-- caffeine_100g: double (nullable = true)\n",
            " |-- taurine_100g: double (nullable = true)\n",
            " |-- ph_100g: double (nullable = true)\n",
            " |-- fruits-vegetables-nuts_100g: double (nullable = true)\n",
            " |-- fruits-vegetables-nuts-dried_100g: double (nullable = true)\n",
            " |-- fruits-vegetables-nuts-estimate_100g: double (nullable = true)\n",
            " |-- fruits-vegetables-nuts-estimate-from-ingredients_100g: double (nullable = true)\n",
            " |-- collagen-meat-protein-ratio_100g: double (nullable = true)\n",
            " |-- cocoa_100g: double (nullable = true)\n",
            " |-- chlorophyl_100g: double (nullable = true)\n",
            " |-- carbon-footprint_100g: double (nullable = true)\n",
            " |-- carbon-footprint-from-meat-or-fish_100g: double (nullable = true)\n",
            " |-- nutrition-score-fr_100g: integer (nullable = true)\n",
            " |-- nutrition-score-uk_100g: integer (nullable = true)\n",
            " |-- glycemic-index_100g: double (nullable = true)\n",
            " |-- water-hardness_100g: double (nullable = true)\n",
            " |-- choline_100g: double (nullable = true)\n",
            " |-- phylloquinone_100g: double (nullable = true)\n",
            " |-- beta-glucan_100g: double (nullable = true)\n",
            " |-- inositol_100g: double (nullable = true)\n",
            " |-- carnitine_100g: double (nullable = true)\n",
            " |-- sulphate_100g: double (nullable = true)\n",
            " |-- nitrate_100g: double (nullable = true)\n",
            " |-- acidity_100g: double (nullable = true)\n",
            " |-- carbohydrates-total_100g: double (nullable = true)\n",
            "\n"
          ]
        }
      ]
    },
    {
      "cell_type": "code",
      "source": [
        "from pyspark.sql.functions import col, when, count, isnan\n",
        "from pyspark.sql.types import DoubleType, FloatType\n",
        "\n",
        "missing_counts = []\n",
        "\n",
        "for field in df.schema.fields:\n",
        "    cname = field.name\n",
        "    ctype = field.dataType\n",
        "\n",
        "    if isinstance(ctype, (DoubleType, FloatType)):\n",
        "        expr = count(when(col(cname).isNull() | isnan(col(cname)), cname)).alias(cname)\n",
        "    else:\n",
        "        expr = count(when(col(cname).isNull(), cname)).alias(cname)\n",
        "\n",
        "    missing_counts.append(expr)\n",
        "\n",
        "df_missing = df.select(missing_counts)\n",
        "df_missing.show(n=1, vertical=True, truncate=False)\n"
      ],
      "metadata": {
        "colab": {
          "base_uri": "https://localhost:8080/",
          "height": 207
        },
        "id": "Rw6ojqTxHODo",
        "outputId": "5c36356d-81ea-41dc-c406-0c381e7eb723"
      },
      "execution_count": 9,
      "outputs": [
        {
          "output_type": "error",
          "ename": "NameError",
          "evalue": "name 'df' is not defined",
          "traceback": [
            "\u001b[0;31m---------------------------------------------------------------------------\u001b[0m",
            "\u001b[0;31mNameError\u001b[0m                                 Traceback (most recent call last)",
            "\u001b[0;32m<ipython-input-9-1191429984>\u001b[0m in \u001b[0;36m<cell line: 0>\u001b[0;34m()\u001b[0m\n\u001b[1;32m      4\u001b[0m \u001b[0mmissing_counts\u001b[0m \u001b[0;34m=\u001b[0m \u001b[0;34m[\u001b[0m\u001b[0;34m]\u001b[0m\u001b[0;34m\u001b[0m\u001b[0;34m\u001b[0m\u001b[0m\n\u001b[1;32m      5\u001b[0m \u001b[0;34m\u001b[0m\u001b[0m\n\u001b[0;32m----> 6\u001b[0;31m \u001b[0;32mfor\u001b[0m \u001b[0mfield\u001b[0m \u001b[0;32min\u001b[0m \u001b[0mdf\u001b[0m\u001b[0;34m.\u001b[0m\u001b[0mschema\u001b[0m\u001b[0;34m.\u001b[0m\u001b[0mfields\u001b[0m\u001b[0;34m:\u001b[0m\u001b[0;34m\u001b[0m\u001b[0;34m\u001b[0m\u001b[0m\n\u001b[0m\u001b[1;32m      7\u001b[0m     \u001b[0mcname\u001b[0m \u001b[0;34m=\u001b[0m \u001b[0mfield\u001b[0m\u001b[0;34m.\u001b[0m\u001b[0mname\u001b[0m\u001b[0;34m\u001b[0m\u001b[0;34m\u001b[0m\u001b[0m\n\u001b[1;32m      8\u001b[0m     \u001b[0mctype\u001b[0m \u001b[0;34m=\u001b[0m \u001b[0mfield\u001b[0m\u001b[0;34m.\u001b[0m\u001b[0mdataType\u001b[0m\u001b[0;34m\u001b[0m\u001b[0;34m\u001b[0m\u001b[0m\n",
            "\u001b[0;31mNameError\u001b[0m: name 'df' is not defined"
          ]
        }
      ]
    },
    {
      "cell_type": "code",
      "source": [
        "total_rows = df.count()\n",
        "missing_info = df_missing.first().asDict()\n",
        "cols_to_drop = [col for col, miss in missing_info.items() if miss / total_rows > 0.9]\n",
        "print(\"Colonnes à supprimer (>90% vides):\", cols_to_drop)"
      ],
      "metadata": {
        "colab": {
          "base_uri": "https://localhost:8080/",
          "height": 190
        },
        "id": "tLKClUASHQrw",
        "outputId": "38ff268a-276d-4cfc-b22a-545a7feb79a1"
      },
      "execution_count": 2,
      "outputs": [
        {
          "output_type": "error",
          "ename": "NameError",
          "evalue": "name 'df' is not defined",
          "traceback": [
            "\u001b[0;31m---------------------------------------------------------------------------\u001b[0m",
            "\u001b[0;31mNameError\u001b[0m                                 Traceback (most recent call last)",
            "\u001b[0;32m<ipython-input-2-1881791099>\u001b[0m in \u001b[0;36m<cell line: 0>\u001b[0;34m()\u001b[0m\n\u001b[0;32m----> 1\u001b[0;31m \u001b[0mtotal_rows\u001b[0m \u001b[0;34m=\u001b[0m \u001b[0mdf\u001b[0m\u001b[0;34m.\u001b[0m\u001b[0mcount\u001b[0m\u001b[0;34m(\u001b[0m\u001b[0;34m)\u001b[0m\u001b[0;34m\u001b[0m\u001b[0;34m\u001b[0m\u001b[0m\n\u001b[0m\u001b[1;32m      2\u001b[0m \u001b[0mmissing_info\u001b[0m \u001b[0;34m=\u001b[0m \u001b[0mdf_missing\u001b[0m\u001b[0;34m.\u001b[0m\u001b[0mfirst\u001b[0m\u001b[0;34m(\u001b[0m\u001b[0;34m)\u001b[0m\u001b[0;34m.\u001b[0m\u001b[0masDict\u001b[0m\u001b[0;34m(\u001b[0m\u001b[0;34m)\u001b[0m\u001b[0;34m\u001b[0m\u001b[0;34m\u001b[0m\u001b[0m\n\u001b[1;32m      3\u001b[0m \u001b[0mcols_to_drop\u001b[0m \u001b[0;34m=\u001b[0m \u001b[0;34m[\u001b[0m\u001b[0mcol\u001b[0m \u001b[0;32mfor\u001b[0m \u001b[0mcol\u001b[0m\u001b[0;34m,\u001b[0m \u001b[0mmiss\u001b[0m \u001b[0;32min\u001b[0m \u001b[0mmissing_info\u001b[0m\u001b[0;34m.\u001b[0m\u001b[0mitems\u001b[0m\u001b[0;34m(\u001b[0m\u001b[0;34m)\u001b[0m \u001b[0;32mif\u001b[0m \u001b[0mmiss\u001b[0m \u001b[0;34m/\u001b[0m \u001b[0mtotal_rows\u001b[0m \u001b[0;34m>\u001b[0m \u001b[0;36m0.9\u001b[0m\u001b[0;34m]\u001b[0m\u001b[0;34m\u001b[0m\u001b[0;34m\u001b[0m\u001b[0m\n\u001b[1;32m      4\u001b[0m \u001b[0mprint\u001b[0m\u001b[0;34m(\u001b[0m\u001b[0;34m\"Colonnes à supprimer (>90% vides):\"\u001b[0m\u001b[0;34m,\u001b[0m \u001b[0mcols_to_drop\u001b[0m\u001b[0;34m)\u001b[0m\u001b[0;34m\u001b[0m\u001b[0;34m\u001b[0m\u001b[0m\n",
            "\u001b[0;31mNameError\u001b[0m: name 'df' is not defined"
          ]
        }
      ]
    },
    {
      "cell_type": "code",
      "source": [
        "df.groupBy(\"countries_tags\").count().orderBy(desc(\"count\")).show(10)\n",
        "df.select(\"energy_100g\", \"fat_100g\").describe().show()\n"
      ],
      "metadata": {
        "id": "Z2wjrdm2HSvY"
      },
      "execution_count": null,
      "outputs": []
    },
    {
      "cell_type": "code",
      "source": [
        "import matplotlib.pyplot as plt\n",
        "top_countries = df.groupBy(\"countries_tags\").count().orderBy(desc(\"count\")).limit(10)\n",
        "top_pd = top_countries.toPandas()\n",
        "\n",
        "top_pd.plot(kind='bar', x='countries_tags', y='count', legend=False)\n",
        "plt.title(\"Top 10 des pays représentés\")\n",
        "plt.ylabel(\"Nombre de produits\")\n",
        "plt.xlabel(\"Pays\")\n",
        "plt.xticks(rotation=45)\n",
        "plt.tight_layout()\n",
        "plt.show()\n"
      ],
      "metadata": {
        "id": "AHeDoIqsHX1A"
      },
      "execution_count": null,
      "outputs": []
    },
    {
      "cell_type": "code",
      "source": [
        "df.columns\n",
        "df = df.toDF(*[c.strip().lower().replace(\" \", \"_\") for c in df.columns])\n",
        "print(df.columns)\n",
        "df.groupBy(\"countries_tags\").count().orderBy(desc(\"count\")).show(10)\n",
        "[c for c in df.columns if \"country\" in c.lower()]\n"
      ],
      "metadata": {
        "id": "HbKqcazrHbfH"
      },
      "execution_count": null,
      "outputs": []
    },
    {
      "cell_type": "code",
      "source": [
        "df.groupBy(\"countries_tags\").count().orderBy(desc(\"count\")).show(10, truncate=False)\n",
        "from pyspark.sql.functions import col, when, count, isnan\n",
        "\n",
        "missing_df = df.select([\n",
        "    count(when(col(c).isNull() | isnan(c) | (col(c) == \"\"), c)).alias(c)\n",
        "    for c in df.columns\n",
        "])\n",
        "missing_df.show(n=1, vertical=True, truncate=False)\n",
        "total_rows = df.count()\n",
        "distinct_rows = df.dropDuplicates().count()\n",
        "print(f\"Total: {total_rows}, Uniques: {distinct_rows}, Doublons: {total_rows - distinct_rows}\")\n",
        "df.select(\"fat_100g\").describe().show()\n",
        "import matplotlib.pyplot as plt\n",
        "\n",
        "top_countries = df.groupBy(\"countries_tags\").count().orderBy(desc(\"count\")).limit(10)\n",
        "top_countries_pd = top_countries.toPandas()\n",
        "\n",
        "plt.figure(figsize=(10,6))\n",
        "plt.bar(top_countries_pd[\"countries_tags\"], top_countries_pd[\"count\"])\n",
        "plt.title(\"Top 10 des pays\")\n",
        "plt.ylabel(\"Nombre de produits\")\n",
        "plt.xticks(rotation=45)\n",
        "plt.tight_layout()\n",
        "plt.show()"
      ],
      "metadata": {
        "id": "M8vas3hTHoKb"
      },
      "execution_count": null,
      "outputs": []
    }
  ]
}